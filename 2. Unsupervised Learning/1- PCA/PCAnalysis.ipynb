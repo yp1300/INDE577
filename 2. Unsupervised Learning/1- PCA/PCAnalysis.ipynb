{
  "nbformat": 4,
  "nbformat_minor": 0,
  "metadata": {
    "colab": {
      "provenance": []
    },
    "kernelspec": {
      "name": "python3",
      "display_name": "Python 3"
    },
    "language_info": {
      "name": "python"
    },
    "widgets": {
      "application/vnd.jupyter.widget-state+json": {
        "a7de7bf545164df1af8030993b90501a": {
          "model_module": "@jupyter-widgets/controls",
          "model_name": "HBoxModel",
          "model_module_version": "1.5.0",
          "state": {
            "_dom_classes": [],
            "_model_module": "@jupyter-widgets/controls",
            "_model_module_version": "1.5.0",
            "_model_name": "HBoxModel",
            "_view_count": null,
            "_view_module": "@jupyter-widgets/controls",
            "_view_module_version": "1.5.0",
            "_view_name": "HBoxView",
            "box_style": "",
            "children": [
              "IPY_MODEL_3bffb3648fac42058e4888364aee1429",
              "IPY_MODEL_8a4d78ff9e024aed97ee89e4a13e5090",
              "IPY_MODEL_6c0658744c29459fa53de99259efca58"
            ],
            "layout": "IPY_MODEL_2db1a6dcc865490aab79829b28e27f86"
          }
        },
        "3bffb3648fac42058e4888364aee1429": {
          "model_module": "@jupyter-widgets/controls",
          "model_name": "HTMLModel",
          "model_module_version": "1.5.0",
          "state": {
            "_dom_classes": [],
            "_model_module": "@jupyter-widgets/controls",
            "_model_module_version": "1.5.0",
            "_model_name": "HTMLModel",
            "_view_count": null,
            "_view_module": "@jupyter-widgets/controls",
            "_view_module_version": "1.5.0",
            "_view_name": "HTMLView",
            "description": "",
            "description_tooltip": null,
            "layout": "IPY_MODEL_660a3760dfc943f598df1a7761fd5522",
            "placeholder": "​",
            "style": "IPY_MODEL_b65e06b2c79f4f80af588907725282b1",
            "value": "100%"
          }
        },
        "8a4d78ff9e024aed97ee89e4a13e5090": {
          "model_module": "@jupyter-widgets/controls",
          "model_name": "FloatProgressModel",
          "model_module_version": "1.5.0",
          "state": {
            "_dom_classes": [],
            "_model_module": "@jupyter-widgets/controls",
            "_model_module_version": "1.5.0",
            "_model_name": "FloatProgressModel",
            "_view_count": null,
            "_view_module": "@jupyter-widgets/controls",
            "_view_module_version": "1.5.0",
            "_view_name": "ProgressView",
            "bar_style": "success",
            "description": "",
            "description_tooltip": null,
            "layout": "IPY_MODEL_70789b2b093c44eab4c7d34e975ea3f1",
            "max": 5,
            "min": 0,
            "orientation": "horizontal",
            "style": "IPY_MODEL_85c7031bf3b94363a7aa955b5b7e5f9c",
            "value": 5
          }
        },
        "6c0658744c29459fa53de99259efca58": {
          "model_module": "@jupyter-widgets/controls",
          "model_name": "HTMLModel",
          "model_module_version": "1.5.0",
          "state": {
            "_dom_classes": [],
            "_model_module": "@jupyter-widgets/controls",
            "_model_module_version": "1.5.0",
            "_model_name": "HTMLModel",
            "_view_count": null,
            "_view_module": "@jupyter-widgets/controls",
            "_view_module_version": "1.5.0",
            "_view_name": "HTMLView",
            "description": "",
            "description_tooltip": null,
            "layout": "IPY_MODEL_98ed79e579544f3a992360a58d7054a3",
            "placeholder": "​",
            "style": "IPY_MODEL_f5438ab1affd4eeaa44c078dbad4f6be",
            "value": " 5/5 [00:00&lt;00:00, 119.30it/s]"
          }
        },
        "2db1a6dcc865490aab79829b28e27f86": {
          "model_module": "@jupyter-widgets/base",
          "model_name": "LayoutModel",
          "model_module_version": "1.2.0",
          "state": {
            "_model_module": "@jupyter-widgets/base",
            "_model_module_version": "1.2.0",
            "_model_name": "LayoutModel",
            "_view_count": null,
            "_view_module": "@jupyter-widgets/base",
            "_view_module_version": "1.2.0",
            "_view_name": "LayoutView",
            "align_content": null,
            "align_items": null,
            "align_self": null,
            "border": null,
            "bottom": null,
            "display": null,
            "flex": null,
            "flex_flow": null,
            "grid_area": null,
            "grid_auto_columns": null,
            "grid_auto_flow": null,
            "grid_auto_rows": null,
            "grid_column": null,
            "grid_gap": null,
            "grid_row": null,
            "grid_template_areas": null,
            "grid_template_columns": null,
            "grid_template_rows": null,
            "height": null,
            "justify_content": null,
            "justify_items": null,
            "left": null,
            "margin": null,
            "max_height": null,
            "max_width": null,
            "min_height": null,
            "min_width": null,
            "object_fit": null,
            "object_position": null,
            "order": null,
            "overflow": null,
            "overflow_x": null,
            "overflow_y": null,
            "padding": null,
            "right": null,
            "top": null,
            "visibility": null,
            "width": null
          }
        },
        "660a3760dfc943f598df1a7761fd5522": {
          "model_module": "@jupyter-widgets/base",
          "model_name": "LayoutModel",
          "model_module_version": "1.2.0",
          "state": {
            "_model_module": "@jupyter-widgets/base",
            "_model_module_version": "1.2.0",
            "_model_name": "LayoutModel",
            "_view_count": null,
            "_view_module": "@jupyter-widgets/base",
            "_view_module_version": "1.2.0",
            "_view_name": "LayoutView",
            "align_content": null,
            "align_items": null,
            "align_self": null,
            "border": null,
            "bottom": null,
            "display": null,
            "flex": null,
            "flex_flow": null,
            "grid_area": null,
            "grid_auto_columns": null,
            "grid_auto_flow": null,
            "grid_auto_rows": null,
            "grid_column": null,
            "grid_gap": null,
            "grid_row": null,
            "grid_template_areas": null,
            "grid_template_columns": null,
            "grid_template_rows": null,
            "height": null,
            "justify_content": null,
            "justify_items": null,
            "left": null,
            "margin": null,
            "max_height": null,
            "max_width": null,
            "min_height": null,
            "min_width": null,
            "object_fit": null,
            "object_position": null,
            "order": null,
            "overflow": null,
            "overflow_x": null,
            "overflow_y": null,
            "padding": null,
            "right": null,
            "top": null,
            "visibility": null,
            "width": null
          }
        },
        "b65e06b2c79f4f80af588907725282b1": {
          "model_module": "@jupyter-widgets/controls",
          "model_name": "DescriptionStyleModel",
          "model_module_version": "1.5.0",
          "state": {
            "_model_module": "@jupyter-widgets/controls",
            "_model_module_version": "1.5.0",
            "_model_name": "DescriptionStyleModel",
            "_view_count": null,
            "_view_module": "@jupyter-widgets/base",
            "_view_module_version": "1.2.0",
            "_view_name": "StyleView",
            "description_width": ""
          }
        },
        "70789b2b093c44eab4c7d34e975ea3f1": {
          "model_module": "@jupyter-widgets/base",
          "model_name": "LayoutModel",
          "model_module_version": "1.2.0",
          "state": {
            "_model_module": "@jupyter-widgets/base",
            "_model_module_version": "1.2.0",
            "_model_name": "LayoutModel",
            "_view_count": null,
            "_view_module": "@jupyter-widgets/base",
            "_view_module_version": "1.2.0",
            "_view_name": "LayoutView",
            "align_content": null,
            "align_items": null,
            "align_self": null,
            "border": null,
            "bottom": null,
            "display": null,
            "flex": null,
            "flex_flow": null,
            "grid_area": null,
            "grid_auto_columns": null,
            "grid_auto_flow": null,
            "grid_auto_rows": null,
            "grid_column": null,
            "grid_gap": null,
            "grid_row": null,
            "grid_template_areas": null,
            "grid_template_columns": null,
            "grid_template_rows": null,
            "height": null,
            "justify_content": null,
            "justify_items": null,
            "left": null,
            "margin": null,
            "max_height": null,
            "max_width": null,
            "min_height": null,
            "min_width": null,
            "object_fit": null,
            "object_position": null,
            "order": null,
            "overflow": null,
            "overflow_x": null,
            "overflow_y": null,
            "padding": null,
            "right": null,
            "top": null,
            "visibility": null,
            "width": null
          }
        },
        "85c7031bf3b94363a7aa955b5b7e5f9c": {
          "model_module": "@jupyter-widgets/controls",
          "model_name": "ProgressStyleModel",
          "model_module_version": "1.5.0",
          "state": {
            "_model_module": "@jupyter-widgets/controls",
            "_model_module_version": "1.5.0",
            "_model_name": "ProgressStyleModel",
            "_view_count": null,
            "_view_module": "@jupyter-widgets/base",
            "_view_module_version": "1.2.0",
            "_view_name": "StyleView",
            "bar_color": null,
            "description_width": ""
          }
        },
        "98ed79e579544f3a992360a58d7054a3": {
          "model_module": "@jupyter-widgets/base",
          "model_name": "LayoutModel",
          "model_module_version": "1.2.0",
          "state": {
            "_model_module": "@jupyter-widgets/base",
            "_model_module_version": "1.2.0",
            "_model_name": "LayoutModel",
            "_view_count": null,
            "_view_module": "@jupyter-widgets/base",
            "_view_module_version": "1.2.0",
            "_view_name": "LayoutView",
            "align_content": null,
            "align_items": null,
            "align_self": null,
            "border": null,
            "bottom": null,
            "display": null,
            "flex": null,
            "flex_flow": null,
            "grid_area": null,
            "grid_auto_columns": null,
            "grid_auto_flow": null,
            "grid_auto_rows": null,
            "grid_column": null,
            "grid_gap": null,
            "grid_row": null,
            "grid_template_areas": null,
            "grid_template_columns": null,
            "grid_template_rows": null,
            "height": null,
            "justify_content": null,
            "justify_items": null,
            "left": null,
            "margin": null,
            "max_height": null,
            "max_width": null,
            "min_height": null,
            "min_width": null,
            "object_fit": null,
            "object_position": null,
            "order": null,
            "overflow": null,
            "overflow_x": null,
            "overflow_y": null,
            "padding": null,
            "right": null,
            "top": null,
            "visibility": null,
            "width": null
          }
        },
        "f5438ab1affd4eeaa44c078dbad4f6be": {
          "model_module": "@jupyter-widgets/controls",
          "model_name": "DescriptionStyleModel",
          "model_module_version": "1.5.0",
          "state": {
            "_model_module": "@jupyter-widgets/controls",
            "_model_module_version": "1.5.0",
            "_model_name": "DescriptionStyleModel",
            "_view_count": null,
            "_view_module": "@jupyter-widgets/base",
            "_view_module_version": "1.2.0",
            "_view_name": "StyleView",
            "description_width": ""
          }
        },
        "2a0ccd64b8b1481d9aaa8d1e18d80303": {
          "model_module": "@jupyter-widgets/controls",
          "model_name": "HBoxModel",
          "model_module_version": "1.5.0",
          "state": {
            "_dom_classes": [],
            "_model_module": "@jupyter-widgets/controls",
            "_model_module_version": "1.5.0",
            "_model_name": "HBoxModel",
            "_view_count": null,
            "_view_module": "@jupyter-widgets/controls",
            "_view_module_version": "1.5.0",
            "_view_name": "HBoxView",
            "box_style": "",
            "children": [
              "IPY_MODEL_d62a0bba9a2345ac87c7cddae25e0030",
              "IPY_MODEL_698447d225f84c1b9feb460e51b332fd",
              "IPY_MODEL_61277d31f97947b0949c0a4252de156c"
            ],
            "layout": "IPY_MODEL_1ca34758076c4031aa8273831db0ac93"
          }
        },
        "d62a0bba9a2345ac87c7cddae25e0030": {
          "model_module": "@jupyter-widgets/controls",
          "model_name": "HTMLModel",
          "model_module_version": "1.5.0",
          "state": {
            "_dom_classes": [],
            "_model_module": "@jupyter-widgets/controls",
            "_model_module_version": "1.5.0",
            "_model_name": "HTMLModel",
            "_view_count": null,
            "_view_module": "@jupyter-widgets/controls",
            "_view_module_version": "1.5.0",
            "_view_name": "HTMLView",
            "description": "",
            "description_tooltip": null,
            "layout": "IPY_MODEL_a2c27d641e1147efb47a8513b2990f97",
            "placeholder": "​",
            "style": "IPY_MODEL_3302680801e74540a25b4eac70ea7054",
            "value": "100%"
          }
        },
        "698447d225f84c1b9feb460e51b332fd": {
          "model_module": "@jupyter-widgets/controls",
          "model_name": "FloatProgressModel",
          "model_module_version": "1.5.0",
          "state": {
            "_dom_classes": [],
            "_model_module": "@jupyter-widgets/controls",
            "_model_module_version": "1.5.0",
            "_model_name": "FloatProgressModel",
            "_view_count": null,
            "_view_module": "@jupyter-widgets/controls",
            "_view_module_version": "1.5.0",
            "_view_name": "ProgressView",
            "bar_style": "success",
            "description": "",
            "description_tooltip": null,
            "layout": "IPY_MODEL_64d2278f82704f059abd394ce83fd9ff",
            "max": 4,
            "min": 0,
            "orientation": "horizontal",
            "style": "IPY_MODEL_1346b7d493a5452899df2587086a2865",
            "value": 4
          }
        },
        "61277d31f97947b0949c0a4252de156c": {
          "model_module": "@jupyter-widgets/controls",
          "model_name": "HTMLModel",
          "model_module_version": "1.5.0",
          "state": {
            "_dom_classes": [],
            "_model_module": "@jupyter-widgets/controls",
            "_model_module_version": "1.5.0",
            "_model_name": "HTMLModel",
            "_view_count": null,
            "_view_module": "@jupyter-widgets/controls",
            "_view_module_version": "1.5.0",
            "_view_name": "HTMLView",
            "description": "",
            "description_tooltip": null,
            "layout": "IPY_MODEL_e1ad666294ea48f6914c6e41432470f4",
            "placeholder": "​",
            "style": "IPY_MODEL_1102540cba644b0d9b0098643ea278b8",
            "value": " 4/4 [00:00&lt;00:00,  4.18it/s]"
          }
        },
        "1ca34758076c4031aa8273831db0ac93": {
          "model_module": "@jupyter-widgets/base",
          "model_name": "LayoutModel",
          "model_module_version": "1.2.0",
          "state": {
            "_model_module": "@jupyter-widgets/base",
            "_model_module_version": "1.2.0",
            "_model_name": "LayoutModel",
            "_view_count": null,
            "_view_module": "@jupyter-widgets/base",
            "_view_module_version": "1.2.0",
            "_view_name": "LayoutView",
            "align_content": null,
            "align_items": null,
            "align_self": null,
            "border": null,
            "bottom": null,
            "display": null,
            "flex": null,
            "flex_flow": null,
            "grid_area": null,
            "grid_auto_columns": null,
            "grid_auto_flow": null,
            "grid_auto_rows": null,
            "grid_column": null,
            "grid_gap": null,
            "grid_row": null,
            "grid_template_areas": null,
            "grid_template_columns": null,
            "grid_template_rows": null,
            "height": null,
            "justify_content": null,
            "justify_items": null,
            "left": null,
            "margin": null,
            "max_height": null,
            "max_width": null,
            "min_height": null,
            "min_width": null,
            "object_fit": null,
            "object_position": null,
            "order": null,
            "overflow": null,
            "overflow_x": null,
            "overflow_y": null,
            "padding": null,
            "right": null,
            "top": null,
            "visibility": null,
            "width": null
          }
        },
        "a2c27d641e1147efb47a8513b2990f97": {
          "model_module": "@jupyter-widgets/base",
          "model_name": "LayoutModel",
          "model_module_version": "1.2.0",
          "state": {
            "_model_module": "@jupyter-widgets/base",
            "_model_module_version": "1.2.0",
            "_model_name": "LayoutModel",
            "_view_count": null,
            "_view_module": "@jupyter-widgets/base",
            "_view_module_version": "1.2.0",
            "_view_name": "LayoutView",
            "align_content": null,
            "align_items": null,
            "align_self": null,
            "border": null,
            "bottom": null,
            "display": null,
            "flex": null,
            "flex_flow": null,
            "grid_area": null,
            "grid_auto_columns": null,
            "grid_auto_flow": null,
            "grid_auto_rows": null,
            "grid_column": null,
            "grid_gap": null,
            "grid_row": null,
            "grid_template_areas": null,
            "grid_template_columns": null,
            "grid_template_rows": null,
            "height": null,
            "justify_content": null,
            "justify_items": null,
            "left": null,
            "margin": null,
            "max_height": null,
            "max_width": null,
            "min_height": null,
            "min_width": null,
            "object_fit": null,
            "object_position": null,
            "order": null,
            "overflow": null,
            "overflow_x": null,
            "overflow_y": null,
            "padding": null,
            "right": null,
            "top": null,
            "visibility": null,
            "width": null
          }
        },
        "3302680801e74540a25b4eac70ea7054": {
          "model_module": "@jupyter-widgets/controls",
          "model_name": "DescriptionStyleModel",
          "model_module_version": "1.5.0",
          "state": {
            "_model_module": "@jupyter-widgets/controls",
            "_model_module_version": "1.5.0",
            "_model_name": "DescriptionStyleModel",
            "_view_count": null,
            "_view_module": "@jupyter-widgets/base",
            "_view_module_version": "1.2.0",
            "_view_name": "StyleView",
            "description_width": ""
          }
        },
        "64d2278f82704f059abd394ce83fd9ff": {
          "model_module": "@jupyter-widgets/base",
          "model_name": "LayoutModel",
          "model_module_version": "1.2.0",
          "state": {
            "_model_module": "@jupyter-widgets/base",
            "_model_module_version": "1.2.0",
            "_model_name": "LayoutModel",
            "_view_count": null,
            "_view_module": "@jupyter-widgets/base",
            "_view_module_version": "1.2.0",
            "_view_name": "LayoutView",
            "align_content": null,
            "align_items": null,
            "align_self": null,
            "border": null,
            "bottom": null,
            "display": null,
            "flex": null,
            "flex_flow": null,
            "grid_area": null,
            "grid_auto_columns": null,
            "grid_auto_flow": null,
            "grid_auto_rows": null,
            "grid_column": null,
            "grid_gap": null,
            "grid_row": null,
            "grid_template_areas": null,
            "grid_template_columns": null,
            "grid_template_rows": null,
            "height": null,
            "justify_content": null,
            "justify_items": null,
            "left": null,
            "margin": null,
            "max_height": null,
            "max_width": null,
            "min_height": null,
            "min_width": null,
            "object_fit": null,
            "object_position": null,
            "order": null,
            "overflow": null,
            "overflow_x": null,
            "overflow_y": null,
            "padding": null,
            "right": null,
            "top": null,
            "visibility": null,
            "width": null
          }
        },
        "1346b7d493a5452899df2587086a2865": {
          "model_module": "@jupyter-widgets/controls",
          "model_name": "ProgressStyleModel",
          "model_module_version": "1.5.0",
          "state": {
            "_model_module": "@jupyter-widgets/controls",
            "_model_module_version": "1.5.0",
            "_model_name": "ProgressStyleModel",
            "_view_count": null,
            "_view_module": "@jupyter-widgets/base",
            "_view_module_version": "1.2.0",
            "_view_name": "StyleView",
            "bar_color": null,
            "description_width": ""
          }
        },
        "e1ad666294ea48f6914c6e41432470f4": {
          "model_module": "@jupyter-widgets/base",
          "model_name": "LayoutModel",
          "model_module_version": "1.2.0",
          "state": {
            "_model_module": "@jupyter-widgets/base",
            "_model_module_version": "1.2.0",
            "_model_name": "LayoutModel",
            "_view_count": null,
            "_view_module": "@jupyter-widgets/base",
            "_view_module_version": "1.2.0",
            "_view_name": "LayoutView",
            "align_content": null,
            "align_items": null,
            "align_self": null,
            "border": null,
            "bottom": null,
            "display": null,
            "flex": null,
            "flex_flow": null,
            "grid_area": null,
            "grid_auto_columns": null,
            "grid_auto_flow": null,
            "grid_auto_rows": null,
            "grid_column": null,
            "grid_gap": null,
            "grid_row": null,
            "grid_template_areas": null,
            "grid_template_columns": null,
            "grid_template_rows": null,
            "height": null,
            "justify_content": null,
            "justify_items": null,
            "left": null,
            "margin": null,
            "max_height": null,
            "max_width": null,
            "min_height": null,
            "min_width": null,
            "object_fit": null,
            "object_position": null,
            "order": null,
            "overflow": null,
            "overflow_x": null,
            "overflow_y": null,
            "padding": null,
            "right": null,
            "top": null,
            "visibility": null,
            "width": null
          }
        },
        "1102540cba644b0d9b0098643ea278b8": {
          "model_module": "@jupyter-widgets/controls",
          "model_name": "DescriptionStyleModel",
          "model_module_version": "1.5.0",
          "state": {
            "_model_module": "@jupyter-widgets/controls",
            "_model_module_version": "1.5.0",
            "_model_name": "DescriptionStyleModel",
            "_view_count": null,
            "_view_module": "@jupyter-widgets/base",
            "_view_module_version": "1.2.0",
            "_view_name": "StyleView",
            "description_width": ""
          }
        }
      }
    }
  },
  "cells": [
    {
      "cell_type": "markdown",
      "source": [
        "# **Principal Component Analysis (PCA)**\n",
        "\n",
        "### Overview:\n",
        "- Utilized a dataset with housing market data.\n",
        "- Standardized key features and performed PCA, resulting in two principal components.\n",
        "- Standardized the target variable 'price'.\n",
        "- Split the dataset into training and testing sets.\n",
        "- Trained four regression models: Linear Regression, Decision Tree, Random Forest, and K Neighbors.\n",
        "- Evaluated models using RMSE and R-squared metrics.\n",
        "\n",
        "\n",
        "\n"
      ],
      "metadata": {
        "id": "u7pAbQGCQIMt"
      }
    },
    {
      "cell_type": "code",
      "source": [
        "import pandas as pd\n",
        "import numpy as np\n",
        "from sklearn.model_selection import train_test_split\n",
        "from sklearn.preprocessing import StandardScaler, LabelEncoder\n",
        "from tqdm.auto import tqdm\n",
        "\n",
        "# Load the dataset\n",
        "file_path = 'Housing.csv'\n",
        "housing_df = pd.read_csv(file_path)\n",
        "\n",
        "# Display the head of the dataframe\n",
        "print(housing_df.head())\n",
        "\n",
        "# Data Cleaning\n",
        "# Remove rows based on specific conditions\n",
        "conditions = [\n",
        "    (housing_df['bedrooms'] == 33) & (housing_df['bathrooms'] == 1.75),\n",
        "    (housing_df['bedrooms'] == 0) & (housing_df['price'] == 1095000),\n",
        "    (housing_df['bedrooms'] == 0) & (housing_df['price'] == 380000),\n",
        "    (housing_df['bedrooms'] == 33) & (housing_df['area'] == 1620),\n",
        "    (housing_df['area'] > 1000000) & (housing_df['bathrooms'] == 1)\n",
        "]\n",
        "for condition in tqdm(conditions):\n",
        "    housing_df = housing_df.drop(housing_df[condition].index)\n",
        "\n",
        "# Split the data into train and test sets\n",
        "train_df, test_df = train_test_split(housing_df, test_size=0.2, random_state=42)\n",
        "\n",
        "# Display the head of the train and test dataframe\n",
        "print('Train set:')\n",
        "print(train_df.head())\n",
        "print('\\nTest set:')\n",
        "print(test_df.head())"
      ],
      "metadata": {
        "colab": {
          "base_uri": "https://localhost:8080/",
          "height": 763,
          "referenced_widgets": [
            "a7de7bf545164df1af8030993b90501a",
            "3bffb3648fac42058e4888364aee1429",
            "8a4d78ff9e024aed97ee89e4a13e5090",
            "6c0658744c29459fa53de99259efca58",
            "2db1a6dcc865490aab79829b28e27f86",
            "660a3760dfc943f598df1a7761fd5522",
            "b65e06b2c79f4f80af588907725282b1",
            "70789b2b093c44eab4c7d34e975ea3f1",
            "85c7031bf3b94363a7aa955b5b7e5f9c",
            "98ed79e579544f3a992360a58d7054a3",
            "f5438ab1affd4eeaa44c078dbad4f6be"
          ]
        },
        "id": "VvjoJZIXLlG4",
        "outputId": "0174fe9a-cdf1-481d-ffc8-9de3074357fd"
      },
      "execution_count": 9,
      "outputs": [
        {
          "output_type": "stream",
          "name": "stdout",
          "text": [
            "      price  area  bedrooms  bathrooms  stories mainroad guestroom basement  \\\n",
            "0  13300000  7420         4          2        3      yes        no       no   \n",
            "1  12250000  8960         4          4        4      yes        no       no   \n",
            "2  12250000  9960         3          2        2      yes        no      yes   \n",
            "3  12215000  7500         4          2        2      yes        no      yes   \n",
            "4  11410000  7420         4          1        2      yes       yes      yes   \n",
            "\n",
            "  hotwaterheating airconditioning  parking prefarea furnishingstatus  \n",
            "0              no             yes        2      yes        furnished  \n",
            "1              no             yes        3       no        furnished  \n",
            "2              no              no        2      yes   semi-furnished  \n",
            "3              no             yes        3      yes        furnished  \n",
            "4              no             yes        2       no        furnished  \n"
          ]
        },
        {
          "output_type": "display_data",
          "data": {
            "text/plain": [
              "  0%|          | 0/5 [00:00<?, ?it/s]"
            ],
            "application/vnd.jupyter.widget-view+json": {
              "version_major": 2,
              "version_minor": 0,
              "model_id": "a7de7bf545164df1af8030993b90501a"
            }
          },
          "metadata": {}
        },
        {
          "output_type": "stream",
          "name": "stdout",
          "text": [
            "Train set:\n",
            "       price  area  bedrooms  bathrooms  stories mainroad guestroom basement  \\\n",
            "46   7525000  6000         3          2        4      yes        no       no   \n",
            "93   6300000  7200         3          2        1      yes        no      yes   \n",
            "335  3920000  3816         2          1        1      yes        no      yes   \n",
            "412  3430000  2610         3          1        2      yes        no      yes   \n",
            "471  3010000  3750         3          1        2      yes        no       no   \n",
            "\n",
            "    hotwaterheating airconditioning  parking prefarea furnishingstatus  \n",
            "46               no             yes        1       no        furnished  \n",
            "93               no             yes        3       no   semi-furnished  \n",
            "335              no             yes        2       no        furnished  \n",
            "412              no              no        0      yes      unfurnished  \n",
            "471              no              no        0       no      unfurnished  \n",
            "\n",
            "Test set:\n",
            "       price  area  bedrooms  bathrooms  stories mainroad guestroom basement  \\\n",
            "316  4060000  5900         4          2        2       no        no      yes   \n",
            "77   6650000  6500         3          2        3      yes        no       no   \n",
            "360  3710000  4040         2          1        1      yes        no       no   \n",
            "90   6440000  5000         3          1        2      yes        no       no   \n",
            "493  2800000  3960         3          1        1      yes        no       no   \n",
            "\n",
            "    hotwaterheating airconditioning  parking prefarea furnishingstatus  \n",
            "316              no              no        1       no      unfurnished  \n",
            "77               no             yes        0      yes        furnished  \n",
            "360              no              no        0       no   semi-furnished  \n",
            "90               no             yes        0       no   semi-furnished  \n",
            "493              no              no        0       no        furnished  \n"
          ]
        }
      ]
    },
    {
      "cell_type": "code",
      "source": [
        "from sklearn.decomposition import PCA\n",
        "from sklearn.preprocessing import StandardScaler\n",
        "\n",
        "# Standardize the data\n",
        "features = ['area', 'bedrooms', 'bathrooms', 'stories', 'parking']\n",
        "# Separating out the features\n",
        "x = train_df.loc[:, features].values\n",
        "# Standardizing the features\n",
        "x = StandardScaler().fit_transform(x)\n",
        "\n",
        "# Performing PCA\n",
        "pca = PCA(n_components=2)\n",
        "principalComponents = pca.fit_transform(x)\n",
        "pca_data = pd.DataFrame(data = principalComponents, columns = ['principal component 1', 'principal component 2'])\n",
        "\n",
        "# Display the head of the transformed data\n",
        "print(pca_data.head())\n",
        "\n",
        "# Display the explained variance ratio\n",
        "print('Explained variance ratio:')\n",
        "print(pca.explained_variance_ratio_)"
      ],
      "metadata": {
        "colab": {
          "base_uri": "https://localhost:8080/"
        },
        "id": "IDc6D9POOt-x",
        "outputId": "b9615ad6-78ac-4313-a3ac-07c81edd0239"
      },
      "execution_count": 10,
      "outputs": [
        {
          "output_type": "stream",
          "name": "stdout",
          "text": [
            "   principal component 1  principal component 2\n",
            "0               2.265548              -0.910812\n",
            "1               1.681647               2.394360\n",
            "2              -1.070060               1.422005\n",
            "3              -0.835632              -1.221273\n",
            "4              -0.650581              -0.921082\n",
            "Explained variance ratio:\n",
            "[0.38637826 0.23626657]\n"
          ]
        }
      ]
    },
    {
      "cell_type": "code",
      "source": [
        "import seaborn as sns\n",
        "import matplotlib.pyplot as plt\n",
        "\n",
        "# Sum of explained variance ratio\n",
        "sum_explained_variance = np.sum(pca.explained_variance_ratio_)\n",
        "print('Sum of explained variance ratio:', sum_explained_variance)\n",
        "\n",
        "# Create a new dataframe with the principal components and target variable\n",
        "# Note: Assuming 'price' is the target variable and is present in the train_df\n",
        "pca_data['price'] = train_df['price'].values\n",
        "\n",
        "# Plot pair plot\n",
        "sns.pairplot(pca_data, vars=['principal component 1', 'principal component 2'], hue='price', palette='viridis')\n",
        "plt.show()"
      ],
      "metadata": {
        "colab": {
          "base_uri": "https://localhost:8080/",
          "height": 530
        },
        "id": "Wz9rO-rhPlr4",
        "outputId": "b4b32eae-8fc0-4c47-e681-113d2a4b9bbf"
      },
      "execution_count": 11,
      "outputs": [
        {
          "output_type": "stream",
          "name": "stdout",
          "text": [
            "Sum of explained variance ratio: 0.6226448307081116\n"
          ]
        },
        {
          "output_type": "display_data",
          "data": {
            "text/plain": [
              "<Figure size 620.125x500 with 6 Axes>"
            ],
            "image/png": "[encoded data removed]"
          },
          "metadata": {}
        }
      ]
    },
    {
      "cell_type": "code",
      "source": [
        "from sklearn.preprocessing import StandardScaler\n",
        "from sklearn.metrics import mean_squared_error, r2_score\n",
        "from sklearn.linear_model import LinearRegression\n",
        "from sklearn.tree import DecisionTreeRegressor\n",
        "from sklearn.ensemble import RandomForestRegressor\n",
        "from sklearn.neighbors import KNeighborsRegressor\n",
        "\n",
        "# Standardize the target variable 'price'\n",
        "sc2 = StandardScaler()\n",
        "y_scaled = np.ravel(sc2.fit_transform(train_df[['price']].values.reshape(-1,1)))\n",
        "\n",
        "# Display the standardized target variable\n",
        "print(y_scaled[:5])\n",
        "\n",
        "# Describe the PCA dataframe\n",
        "pca_data_description = pca_data.describe()\n",
        "print(pca_data_description)\n",
        "\n",
        "# Split the data into train and test sets\n",
        "X_train, X_test, y_train, y_test = train_test_split(principalComponents, y_scaled, test_size=0.2, random_state=42)\n",
        "\n",
        "# Train different regression models\n",
        "models = [LinearRegression(), DecisionTreeRegressor(), RandomForestRegressor(), KNeighborsRegressor()]\n",
        "\n",
        "# Compute the RMSE and R-squared for each model\n",
        "rmse_scores = []\n",
        "r2_scores = []\n",
        "for model in tqdm(models):\n",
        "    model.fit(X_train, y_train)\n",
        "    y_pred = model.predict(X_test)\n",
        "    rmse = np.sqrt(mean_squared_error(y_test, y_pred))\n",
        "    r2 = r2_score(y_test, y_pred)\n",
        "    rmse_scores.append(rmse)\n",
        "    r2_scores.append(r2)\n",
        "\n",
        "# Display the RMSE and R-squared scores\n",
        "print('RMSE scores:', rmse_scores)\n",
        "print('R-squared scores:', r2_scores)"
      ],
      "metadata": {
        "colab": {
          "base_uri": "https://localhost:8080/",
          "height": 253,
          "referenced_widgets": [
            "2a0ccd64b8b1481d9aaa8d1e18d80303",
            "d62a0bba9a2345ac87c7cddae25e0030",
            "698447d225f84c1b9feb460e51b332fd",
            "61277d31f97947b0949c0a4252de156c",
            "1ca34758076c4031aa8273831db0ac93",
            "a2c27d641e1147efb47a8513b2990f97",
            "3302680801e74540a25b4eac70ea7054",
            "64d2278f82704f059abd394ce83fd9ff",
            "1346b7d493a5452899df2587086a2865",
            "e1ad666294ea48f6914c6e41432470f4",
            "1102540cba644b0d9b0098643ea278b8"
          ]
        },
        "id": "VXAt_Pj4PyBe",
        "outputId": "fef2d08a-f318-41ed-9fc5-4d8d6940d469"
      },
      "execution_count": 12,
      "outputs": [
        {
          "output_type": "stream",
          "name": "stdout",
          "text": [
            "[ 1.60509012  0.90746568 -0.44791897 -0.72696874 -0.96615427]\n",
            "       principal component 1  principal component 2         price\n",
            "count           4.360000e+02           4.360000e+02  4.360000e+02\n",
            "mean           -8.148426e-18          -1.629685e-17  4.706527e+06\n",
            "std             1.391522e+00           1.088140e+00  1.757976e+06\n",
            "min            -2.637872e+00          -2.180059e+00  1.750000e+06\n",
            "25%            -9.978706e-01          -8.170917e-01  3.498250e+06\n",
            "50%            -2.054221e-01          -8.736768e-02  4.291000e+06\n",
            "75%             9.383963e-01           5.645564e-01  5.600000e+06\n",
            "max             6.445093e+00           4.141019e+00  1.225000e+07\n"
          ]
        },
        {
          "output_type": "display_data",
          "data": {
            "text/plain": [
              "  0%|          | 0/4 [00:00<?, ?it/s]"
            ],
            "application/vnd.jupyter.widget-view+json": {
              "version_major": 2,
              "version_minor": 0,
              "model_id": "2a0ccd64b8b1481d9aaa8d1e18d80303"
            }
          },
          "metadata": {}
        },
        {
          "output_type": "stream",
          "name": "stdout",
          "text": [
            "RMSE scores: [0.6832821938615689, 0.849948710263999, 0.7140879949832113, 0.7052178600308326]\n",
            "R-squared scores: [0.5331125897667698, 0.2775673007688024, 0.490064296481857, 0.5026540775613058]\n"
          ]
        }
      ]
    },
    {
      "cell_type": "code",
      "source": [
        "import matplotlib.pyplot as plt\n",
        "\n",
        "# Model names\n",
        "model_names = ['Linear Regression', 'Decision Tree', 'Random Forest', 'K Neighbors']\n",
        "\n",
        "# Plotting RMSE scores\n",
        "plt.figure(figsize=(10, 5))\n",
        "plt.bar(model_names, rmse_scores, color='skyblue')\n",
        "plt.title('RMSE Scores for Different Models')\n",
        "plt.ylabel('RMSE')\n",
        "for i, v in enumerate(rmse_scores):\n",
        "    plt.text(i, v + 0.02, str(round(v, 2)), ha='center', va='bottom')\n",
        "plt.tight_layout()\n",
        "plt.show()\n",
        "\n",
        "# Plotting R-squared scores\n",
        "plt.figure(figsize=(10, 5))\n",
        "plt.bar(model_names, r2_scores, color='lightgreen')\n",
        "plt.title('R-squared Scores for Different Models')\n",
        "plt.ylabel('R-squared')\n",
        "for i, v in enumerate(r2_scores):\n",
        "    plt.text(i, v + 0.02, str(round(v, 2)), ha='center', va='bottom')\n",
        "plt.tight_layout()\n",
        "plt.show()"
      ],
      "metadata": {
        "colab": {
          "base_uri": "https://localhost:8080/",
          "height": 997
        },
        "id": "mfrjrYObP3zZ",
        "outputId": "8a60f36f-380e-41c3-8e88-41b0e462da0b"
      },
      "execution_count": 13,
      "outputs": [
        {
          "output_type": "display_data",
          "data": {
            "text/plain": [
              "<Figure size 1000x500 with 1 Axes>"
            ],
            "image/png": "[encoded data removed]"
          },
          "metadata": {}
        },
        {
          "output_type": "display_data",
          "data": {
            "text/plain": [
              "<Figure size 1000x500 with 1 Axes>"
            ],
            "image/png": "[encoded data removed]"
          },
          "metadata": {}
        }
      ]
    },
    {
      "cell_type": "markdown",
      "source": [
        "\n",
        "### Conclusion:\n",
        "- Linear Regression model had the best performance with the lowest RMSE and highest R-squared score.\n",
        "- Decision Tree model performed the worst with the highest RMSE and lowest R-squared score.\n",
        "- Random Forest and K Neighbors models had similar and moderate performance metrics.\n",
        "\n",
        "Linear Regression proved to be an effective model for predicting housing prices using principal components from the dataset. More complex models did not significantly improve prediction accuracy and might require further tuning or additional features to enhance their performance.\n",
        "\n"
      ],
      "metadata": {
        "id": "Mj-OPw_oRKZZ"
      }
    }
  ]
}