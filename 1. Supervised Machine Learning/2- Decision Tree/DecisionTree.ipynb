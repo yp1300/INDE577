{
  "nbformat": 4,
  "nbformat_minor": 0,
  "metadata": {
    "colab": {
      "provenance": []
    },
    "kernelspec": {
      "name": "python3",
      "display_name": "Python 3"
    },
    "language_info": {
      "name": "python"
    }
  },
  "cells": [
    {
      "cell_type": "code",
      "execution_count": 1,
      "metadata": {
        "id": "I_rw2-Kyg1os"
      },
      "outputs": [],
      "source": []
    },
    {
      "cell_type": "markdown",
      "source": [
        "# **Project Overview- Decision Tree**\n",
        "\n",
        "In this project, we aimed to predict income levels using a dataset containing socio-economic factors. The key steps included data preparation (loading, cleaning, transforming, and splitting the data) and modeling. We used Logistic Regression and Decision Tree models for our analysis.\n",
        "\n",
        "**Data Preparation**\n",
        "\n",
        "The dataset was cleaned, with missing values handled and categorical data transformed into numerical formats. Features were selected, excluding the target 'income', and the data was split into training and testing sets.\n",
        "\n",
        "**Model Training and Evaluation**\n",
        "\n",
        "Both Logistic Regression and Decision Tree models were trained. Their performance was assessed using metrics like accuracy, precision, recall, and F1 score, alongside confusion matrices and ROC curves."
      ],
      "metadata": {
        "id": "z55TgfOJvSiZ"
      }
    },
    {
      "cell_type": "markdown",
      "source": [
        "\n",
        "\n",
        "**Data**\n",
        "\n"
      ],
      "metadata": {
        "id": "foag67gAnRYC"
      }
    },
    {
      "cell_type": "code",
      "source": [
        "import pandas as pd\n",
        "\n",
        "# Load the dataset\n",
        "file_path = '/content/adult-2.csv'\n",
        "data = pd.read_csv(file_path)\n",
        "\n",
        "# Display the first few rows of the dataset to understand its structure\n",
        "data.head()\n"
      ],
      "metadata": {
        "colab": {
          "base_uri": "https://localhost:8080/",
          "height": 343
        },
        "id": "9NQ4NwPxnWS-",
        "outputId": "328628d4-daa0-4176-dfa4-ad97703e74c2"
      },
      "execution_count": 2,
      "outputs": [
        {
          "output_type": "execute_result",
          "data": {
            "text/plain": [
              "   age  workclass  fnlwgt     education  educational-num      marital-status  \\\n",
              "0   25    Private  226802          11th                7       Never-married   \n",
              "1   38    Private   89814       HS-grad                9  Married-civ-spouse   \n",
              "2   28  Local-gov  336951    Assoc-acdm               12  Married-civ-spouse   \n",
              "3   44    Private  160323  Some-college               10  Married-civ-spouse   \n",
              "4   18          ?  103497  Some-college               10       Never-married   \n",
              "\n",
              "          occupation relationship   race  gender  capital-gain  capital-loss  \\\n",
              "0  Machine-op-inspct    Own-child  Black    Male             0             0   \n",
              "1    Farming-fishing      Husband  White    Male             0             0   \n",
              "2    Protective-serv      Husband  White    Male             0             0   \n",
              "3  Machine-op-inspct      Husband  Black    Male          7688             0   \n",
              "4                  ?    Own-child  White  Female             0             0   \n",
              "\n",
              "   hours-per-week native-country income  \n",
              "0              40  United-States  <=50K  \n",
              "1              50  United-States  <=50K  \n",
              "2              40  United-States   >50K  \n",
              "3              40  United-States   >50K  \n",
              "4              30  United-States  <=50K  "
            ],
            "text/html": [
              "\n",
              "  <div id=\"df-ce932782-f23f-44ad-9d63-39b5cc219ce3\" class=\"colab-df-container\">\n",
              "    <div>\n",
              "<style scoped>\n",
              "    .dataframe tbody tr th:only-of-type {\n",
              "        vertical-align: middle;\n",
              "    }\n",
              "\n",
              "    .dataframe tbody tr th {\n",
              "        vertical-align: top;\n",
              "    }\n",
              "\n",
              "    .dataframe thead th {\n",
              "        text-align: right;\n",
              "    }\n",
              "</style>\n",
              "<table border=\"1\" class=\"dataframe\">\n",
              "  <thead>\n",
              "    <tr style=\"text-align: right;\">\n",
              "      <th></th>\n",
              "      <th>age</th>\n",
              "      <th>workclass</th>\n",
              "      <th>fnlwgt</th>\n",
              "      <th>education</th>\n",
              "      <th>educational-num</th>\n",
              "      <th>marital-status</th>\n",
              "      <th>occupation</th>\n",
              "      <th>relationship</th>\n",
              "      <th>race</th>\n",
              "      <th>gender</th>\n",
              "      <th>capital-gain</th>\n",
              "      <th>capital-loss</th>\n",
              "      <th>hours-per-week</th>\n",
              "      <th>native-country</th>\n",
              "      <th>income</th>\n",
              "    </tr>\n",
              "  </thead>\n",
              "  <tbody>\n",
              "    <tr>\n",
              "      <th>0</th>\n",
              "      <td>25</td>\n",
              "      <td>Private</td>\n",
              "      <td>226802</td>\n",
              "      <td>11th</td>\n",
              "      <td>7</td>\n",
              "      <td>Never-married</td>\n",
              "      <td>Machine-op-inspct</td>\n",
              "      <td>Own-child</td>\n",
              "      <td>Black</td>\n",
              "      <td>Male</td>\n",
              "      <td>0</td>\n",
              "      <td>0</td>\n",
              "      <td>40</td>\n",
              "      <td>United-States</td>\n",
              "      <td>&lt;=50K</td>\n",
              "    </tr>\n",
              "    <tr>\n",
              "      <th>1</th>\n",
              "      <td>38</td>\n",
              "      <td>Private</td>\n",
              "      <td>89814</td>\n",
              "      <td>HS-grad</td>\n",
              "      <td>9</td>\n",
              "      <td>Married-civ-spouse</td>\n",
              "      <td>Farming-fishing</td>\n",
              "      <td>Husband</td>\n",
              "      <td>White</td>\n",
              "      <td>Male</td>\n",
              "      <td>0</td>\n",
              "      <td>0</td>\n",
              "      <td>50</td>\n",
              "      <td>United-States</td>\n",
              "      <td>&lt;=50K</td>\n",
              "    </tr>\n",
              "    <tr>\n",
              "      <th>2</th>\n",
              "      <td>28</td>\n",
              "      <td>Local-gov</td>\n",
              "      <td>336951</td>\n",
              "      <td>Assoc-acdm</td>\n",
              "      <td>12</td>\n",
              "      <td>Married-civ-spouse</td>\n",
              "      <td>Protective-serv</td>\n",
              "      <td>Husband</td>\n",
              "      <td>White</td>\n",
              "      <td>Male</td>\n",
              "      <td>0</td>\n",
              "      <td>0</td>\n",
              "      <td>40</td>\n",
              "      <td>United-States</td>\n",
              "      <td>&gt;50K</td>\n",
              "    </tr>\n",
              "    <tr>\n",
              "      <th>3</th>\n",
              "      <td>44</td>\n",
              "      <td>Private</td>\n",
              "      <td>160323</td>\n",
              "      <td>Some-college</td>\n",
              "      <td>10</td>\n",
              "      <td>Married-civ-spouse</td>\n",
              "      <td>Machine-op-inspct</td>\n",
              "      <td>Husband</td>\n",
              "      <td>Black</td>\n",
              "      <td>Male</td>\n",
              "      <td>7688</td>\n",
              "      <td>0</td>\n",
              "      <td>40</td>\n",
              "      <td>United-States</td>\n",
              "      <td>&gt;50K</td>\n",
              "    </tr>\n",
              "    <tr>\n",
              "      <th>4</th>\n",
              "      <td>18</td>\n",
              "      <td>?</td>\n",
              "      <td>103497</td>\n",
              "      <td>Some-college</td>\n",
              "      <td>10</td>\n",
              "      <td>Never-married</td>\n",
              "      <td>?</td>\n",
              "      <td>Own-child</td>\n",
              "      <td>White</td>\n",
              "      <td>Female</td>\n",
              "      <td>0</td>\n",
              "      <td>0</td>\n",
              "      <td>30</td>\n",
              "      <td>United-States</td>\n",
              "      <td>&lt;=50K</td>\n",
              "    </tr>\n",
              "  </tbody>\n",
              "</table>\n",
              "</div>\n",
              "    <div class=\"colab-df-buttons\">\n",
              "\n",
              "  <div class=\"colab-df-container\">\n",
              "    <button class=\"colab-df-convert\" onclick=\"convertToInteractive('df-ce932782-f23f-44ad-9d63-39b5cc219ce3')\"\n",
              "            title=\"Convert this dataframe to an interactive table.\"\n",
              "            style=\"display:none;\">\n",
              "\n",
              "  <svg xmlns=\"http://www.w3.org/2000/svg\" height=\"24px\" viewBox=\"0 -960 960 960\">\n",
              "    <path d=\"M120-120v-720h720v720H120Zm60-500h600v-160H180v160Zm220 220h160v-160H400v160Zm0 220h160v-160H400v160ZM180-400h160v-160H180v160Zm440 0h160v-160H620v160ZM180-180h160v-160H180v160Zm440 0h160v-160H620v160Z\"/>\n",
              "  </svg>\n",
              "    </button>\n",
              "\n",
              "  <style>\n",
              "    .colab-df-container {\n",
              "      display:flex;\n",
              "      gap: 12px;\n",
              "    }\n",
              "\n",
              "    .colab-df-convert {\n",
              "      background-color: #E8F0FE;\n",
              "      border: none;\n",
              "      border-radius: 50%;\n",
              "      cursor: pointer;\n",
              "      display: none;\n",
              "      fill: #1967D2;\n",
              "      height: 32px;\n",
              "      padding: 0 0 0 0;\n",
              "      width: 32px;\n",
              "    }\n",
              "\n",
              "    .colab-df-convert:hover {\n",
              "      background-color: #E2EBFA;\n",
              "      box-shadow: 0px 1px 2px rgba(60, 64, 67, 0.3), 0px 1px 3px 1px rgba(60, 64, 67, 0.15);\n",
              "      fill: #174EA6;\n",
              "    }\n",
              "\n",
              "    .colab-df-buttons div {\n",
              "      margin-bottom: 4px;\n",
              "    }\n",
              "\n",
              "    [theme=dark] .colab-df-convert {\n",
              "      background-color: #3B4455;\n",
              "      fill: #D2E3FC;\n",
              "    }\n",
              "\n",
              "    [theme=dark] .colab-df-convert:hover {\n",
              "      background-color: #434B5C;\n",
              "      box-shadow: 0px 1px 3px 1px rgba(0, 0, 0, 0.15);\n",
              "      filter: drop-shadow(0px 1px 2px rgba(0, 0, 0, 0.3));\n",
              "      fill: #FFFFFF;\n",
              "    }\n",
              "  </style>\n",
              "\n",
              "    <script>\n",
              "      const buttonEl =\n",
              "        document.querySelector('#df-ce932782-f23f-44ad-9d63-39b5cc219ce3 button.colab-df-convert');\n",
              "      buttonEl.style.display =\n",
              "        google.colab.kernel.accessAllowed ? 'block' : 'none';\n",
              "\n",
              "      async function convertToInteractive(key) {\n",
              "        const element = document.querySelector('#df-ce932782-f23f-44ad-9d63-39b5cc219ce3');\n",
              "        const dataTable =\n",
              "          await google.colab.kernel.invokeFunction('convertToInteractive',\n",
              "                                                    [key], {});\n",
              "        if (!dataTable) return;\n",
              "\n",
              "        const docLinkHtml = 'Like what you see? Visit the ' +\n",
              "          '<a target=\"_blank\" href=https://colab.research.google.com/notebooks/data_table.ipynb>data table notebook</a>'\n",
              "          + ' to learn more about interactive tables.';\n",
              "        element.innerHTML = '';\n",
              "        dataTable['output_type'] = 'display_data';\n",
              "        await google.colab.output.renderOutput(dataTable, element);\n",
              "        const docLink = document.createElement('div');\n",
              "        docLink.innerHTML = docLinkHtml;\n",
              "        element.appendChild(docLink);\n",
              "      }\n",
              "    </script>\n",
              "  </div>\n",
              "\n",
              "\n",
              "<div id=\"df-6eedce1f-0333-433b-b6c2-bb9be4eb2445\">\n",
              "  <button class=\"colab-df-quickchart\" onclick=\"quickchart('df-6eedce1f-0333-433b-b6c2-bb9be4eb2445')\"\n",
              "            title=\"Suggest charts\"\n",
              "            style=\"display:none;\">\n",
              "\n",
              "<svg xmlns=\"http://www.w3.org/2000/svg\" height=\"24px\"viewBox=\"0 0 24 24\"\n",
              "     width=\"24px\">\n",
              "    <g>\n",
              "        <path d=\"M19 3H5c-1.1 0-2 .9-2 2v14c0 1.1.9 2 2 2h14c1.1 0 2-.9 2-2V5c0-1.1-.9-2-2-2zM9 17H7v-7h2v7zm4 0h-2V7h2v10zm4 0h-2v-4h2v4z\"/>\n",
              "    </g>\n",
              "</svg>\n",
              "  </button>\n",
              "\n",
              "<style>\n",
              "  .colab-df-quickchart {\n",
              "      --bg-color: #E8F0FE;\n",
              "      --fill-color: #1967D2;\n",
              "      --hover-bg-color: #E2EBFA;\n",
              "      --hover-fill-color: #174EA6;\n",
              "      --disabled-fill-color: #AAA;\n",
              "      --disabled-bg-color: #DDD;\n",
              "  }\n",
              "\n",
              "  [theme=dark] .colab-df-quickchart {\n",
              "      --bg-color: #3B4455;\n",
              "      --fill-color: #D2E3FC;\n",
              "      --hover-bg-color: #434B5C;\n",
              "      --hover-fill-color: #FFFFFF;\n",
              "      --disabled-bg-color: #3B4455;\n",
              "      --disabled-fill-color: #666;\n",
              "  }\n",
              "\n",
              "  .colab-df-quickchart {\n",
              "    background-color: var(--bg-color);\n",
              "    border: none;\n",
              "    border-radius: 50%;\n",
              "    cursor: pointer;\n",
              "    display: none;\n",
              "    fill: var(--fill-color);\n",
              "    height: 32px;\n",
              "    padding: 0;\n",
              "    width: 32px;\n",
              "  }\n",
              "\n",
              "  .colab-df-quickchart:hover {\n",
              "    background-color: var(--hover-bg-color);\n",
              "    box-shadow: 0 1px 2px rgba(60, 64, 67, 0.3), 0 1px 3px 1px rgba(60, 64, 67, 0.15);\n",
              "    fill: var(--button-hover-fill-color);\n",
              "  }\n",
              "\n",
              "  .colab-df-quickchart-complete:disabled,\n",
              "  .colab-df-quickchart-complete:disabled:hover {\n",
              "    background-color: var(--disabled-bg-color);\n",
              "    fill: var(--disabled-fill-color);\n",
              "    box-shadow: none;\n",
              "  }\n",
              "\n",
              "  .colab-df-spinner {\n",
              "    border: 2px solid var(--fill-color);\n",
              "    border-color: transparent;\n",
              "    border-bottom-color: var(--fill-color);\n",
              "    animation:\n",
              "      spin 1s steps(1) infinite;\n",
              "  }\n",
              "\n",
              "  @keyframes spin {\n",
              "    0% {\n",
              "      border-color: transparent;\n",
              "      border-bottom-color: var(--fill-color);\n",
              "      border-left-color: var(--fill-color);\n",
              "    }\n",
              "    20% {\n",
              "      border-color: transparent;\n",
              "      border-left-color: var(--fill-color);\n",
              "      border-top-color: var(--fill-color);\n",
              "    }\n",
              "    30% {\n",
              "      border-color: transparent;\n",
              "      border-left-color: var(--fill-color);\n",
              "      border-top-color: var(--fill-color);\n",
              "      border-right-color: var(--fill-color);\n",
              "    }\n",
              "    40% {\n",
              "      border-color: transparent;\n",
              "      border-right-color: var(--fill-color);\n",
              "      border-top-color: var(--fill-color);\n",
              "    }\n",
              "    60% {\n",
              "      border-color: transparent;\n",
              "      border-right-color: var(--fill-color);\n",
              "    }\n",
              "    80% {\n",
              "      border-color: transparent;\n",
              "      border-right-color: var(--fill-color);\n",
              "      border-bottom-color: var(--fill-color);\n",
              "    }\n",
              "    90% {\n",
              "      border-color: transparent;\n",
              "      border-bottom-color: var(--fill-color);\n",
              "    }\n",
              "  }\n",
              "</style>\n",
              "\n",
              "  <script>\n",
              "    async function quickchart(key) {\n",
              "      const quickchartButtonEl =\n",
              "        document.querySelector('#' + key + ' button');\n",
              "      quickchartButtonEl.disabled = true;  // To prevent multiple clicks.\n",
              "      quickchartButtonEl.classList.add('colab-df-spinner');\n",
              "      try {\n",
              "        const charts = await google.colab.kernel.invokeFunction(\n",
              "            'suggestCharts', [key], {});\n",
              "      } catch (error) {\n",
              "        console.error('Error during call to suggestCharts:', error);\n",
              "      }\n",
              "      quickchartButtonEl.classList.remove('colab-df-spinner');\n",
              "      quickchartButtonEl.classList.add('colab-df-quickchart-complete');\n",
              "    }\n",
              "    (() => {\n",
              "      let quickchartButtonEl =\n",
              "        document.querySelector('#df-6eedce1f-0333-433b-b6c2-bb9be4eb2445 button');\n",
              "      quickchartButtonEl.style.display =\n",
              "        google.colab.kernel.accessAllowed ? 'block' : 'none';\n",
              "    })();\n",
              "  </script>\n",
              "</div>\n",
              "    </div>\n",
              "  </div>\n"
            ]
          },
          "metadata": {},
          "execution_count": 2
        }
      ]
    },
    {
      "cell_type": "markdown",
      "source": [
        "**Next steps in cleaning the data**"
      ],
      "metadata": {
        "id": "bSWugtwhoAxd"
      }
    },
    {
      "cell_type": "code",
      "source": [
        "# Identifying missing values represented by '?'\n",
        "missing_values_mask = data == '?'\n",
        "missing_values_count = missing_values_mask.sum()\n",
        "\n",
        "# Replace '?' with NaN\n",
        "data.replace('?', pd.NA, inplace=True)\n",
        "\n",
        "# Display the count of missing values in each column\n",
        "missing_values_count, data.head()\n"
      ],
      "metadata": {
        "colab": {
          "base_uri": "https://localhost:8080/"
        },
        "id": "7ue7pkFAoBtQ",
        "outputId": "7eb3b4b8-2aa5-4183-853a-3264a4e7a0e2"
      },
      "execution_count": 3,
      "outputs": [
        {
          "output_type": "execute_result",
          "data": {
            "text/plain": [
              "(age                   0\n",
              " workclass          2799\n",
              " fnlwgt                0\n",
              " education             0\n",
              " educational-num       0\n",
              " marital-status        0\n",
              " occupation         2809\n",
              " relationship          0\n",
              " race                  0\n",
              " gender                0\n",
              " capital-gain          0\n",
              " capital-loss          0\n",
              " hours-per-week        0\n",
              " native-country      857\n",
              " income                0\n",
              " dtype: int64,\n",
              "    age  workclass  fnlwgt     education  educational-num      marital-status  \\\n",
              " 0   25    Private  226802          11th                7       Never-married   \n",
              " 1   38    Private   89814       HS-grad                9  Married-civ-spouse   \n",
              " 2   28  Local-gov  336951    Assoc-acdm               12  Married-civ-spouse   \n",
              " 3   44    Private  160323  Some-college               10  Married-civ-spouse   \n",
              " 4   18       <NA>  103497  Some-college               10       Never-married   \n",
              " \n",
              "           occupation relationship   race  gender  capital-gain  capital-loss  \\\n",
              " 0  Machine-op-inspct    Own-child  Black    Male             0             0   \n",
              " 1    Farming-fishing      Husband  White    Male             0             0   \n",
              " 2    Protective-serv      Husband  White    Male             0             0   \n",
              " 3  Machine-op-inspct      Husband  Black    Male          7688             0   \n",
              " 4               <NA>    Own-child  White  Female             0             0   \n",
              " \n",
              "    hours-per-week native-country income  \n",
              " 0              40  United-States  <=50K  \n",
              " 1              50  United-States  <=50K  \n",
              " 2              40  United-States   >50K  \n",
              " 3              40  United-States   >50K  \n",
              " 4              30  United-States  <=50K  )"
            ]
          },
          "metadata": {},
          "execution_count": 3
        }
      ]
    },
    {
      "cell_type": "markdown",
      "source": [
        "**The dataset initially contained 48,842 rows and 15 columns. After handling missing values, we have two options:**\n",
        "\n",
        "Filling Missing Values: If we fill the missing values with the most common value in each column, the shape of the dataset remains the same (48,842 rows and 15 columns).\n",
        "\n",
        "*   Dropping Rows with Missing Values: If we drop rows with anymissing values, the dataset is reduced to 45,222 rows, while retaining the same number of columns (15).\n",
        "*The choice between these two options depends on the specific requirements of your analysis or model. Filling missing values preserves the dataset size but might introduce bias, while dropping rows leads to a loss of data but maintains the original distribution of the features.\n",
        "\n",
        "\n",
        "*   Next, we will transform categorical columns into a numerical format suitable for machine learning models and select relevant features. This will be followed by splitting the dataset into training and testing sets.\n",
        "*   For demonstration, I will proceed with the dataset where missing values are filled. Let's transform the categorical columns and select features.\n",
        "\n"
      ],
      "metadata": {
        "id": "x94WgkcwoL7B"
      }
    },
    {
      "cell_type": "code",
      "source": [
        "# Decide how to handle missing values\n",
        "# Option 1: Fill missing values with the most common value in each column\n",
        "data_filled = data.copy()\n",
        "for column in ['workclass', 'occupation', 'native-country']:\n",
        "    most_common_value = data_filled[column].mode()[0]\n",
        "    data_filled[column].fillna(most_common_value, inplace=True)\n",
        "\n",
        "# Option 2: Drop rows with any missing values\n",
        "data_dropped = data.dropna()\n",
        "\n",
        "# Check the shape of the datasets after handling missing values\n",
        "original_shape = data.shape\n",
        "filled_shape = data_filled.shape\n",
        "dropped_shape = data_dropped.shape\n",
        "\n",
        "original_shape, filled_shape, dropped_shape\n"
      ],
      "metadata": {
        "colab": {
          "base_uri": "https://localhost:8080/"
        },
        "id": "Fu8rmtjWoyOY",
        "outputId": "d05de641-5cb7-4bae-9b74-e0a4a7f6c8ca"
      },
      "execution_count": 4,
      "outputs": [
        {
          "output_type": "execute_result",
          "data": {
            "text/plain": [
              "((48842, 15), (48842, 15), (45222, 15))"
            ]
          },
          "metadata": {},
          "execution_count": 4
        }
      ]
    },
    {
      "cell_type": "markdown",
      "source": [
        "The dataset has been successfully transformed and prepared for machine learning models:\n",
        "\n",
        "\n",
        "*   Categorical Transformation: All categorical columns have been encoded into numerical values using Label Encoding.\n",
        "Feature Selection: All columns except 'income' (the target variable) are used as features.\n",
        "Data Splitting: The dataset is split into training and testing sets, with 80% of the data used for training and 20% for testing.\n",
        "*   Data Splitting: The dataset is split into training and testing sets, with 80% of the data used for training and 20% for testing.\n",
        "\n",
        "**The resulting training set consists of 39,073 samples, and the testing set has 9,769 samples**. Each sample includes 14 features.\n"
      ],
      "metadata": {
        "id": "S-p_EbEdo512"
      }
    },
    {
      "cell_type": "code",
      "source": [
        "from sklearn.preprocessing import LabelEncoder\n",
        "from sklearn.model_selection import train_test_split\n",
        "\n",
        "# Using the dataset where missing values are filled\n",
        "data_to_use = data_filled.copy()\n",
        "\n",
        "# Transforming categorical columns using Label Encoding\n",
        "label_encoders = {}\n",
        "categorical_columns = data_to_use.select_dtypes(include=['object', 'category']).columns\n",
        "\n",
        "for column in categorical_columns:\n",
        "    le = LabelEncoder()\n",
        "    data_to_use[column] = le.fit_transform(data_to_use[column])\n",
        "    label_encoders[column] = le\n",
        "\n",
        "# Selecting features (excluding 'income' which is the target variable)\n",
        "features = data_to_use.drop('income', axis=1)\n",
        "target = data_to_use['income']\n",
        "\n",
        "# Splitting the dataset into training and testing sets\n",
        "X_train, X_test, y_train, y_test = train_test_split(features, target, test_size=0.2, random_state=42)\n",
        "\n",
        "# Displaying the shapes of the training and testing sets\n",
        "X_train.shape, X_test.shape, y_train.shape, y_test.shape\n"
      ],
      "metadata": {
        "colab": {
          "base_uri": "https://localhost:8080/"
        },
        "id": "itKBxJePpG7T",
        "outputId": "54990504-55e7-4192-f928-537cfde11e74"
      },
      "execution_count": 5,
      "outputs": [
        {
          "output_type": "execute_result",
          "data": {
            "text/plain": [
              "((39073, 14), (9769, 14), (39073,), (9769,))"
            ]
          },
          "metadata": {},
          "execution_count": 5
        }
      ]
    },
    {
      "cell_type": "markdown",
      "source": [
        "**The Logistic Regression model trained on the dataset yields the following evaluation metrics**:\n",
        "\n",
        "**Accuracy**: Approximately 79.71%. This measures the proportion of correctly predicted instances.\n",
        "\n",
        "**Precision**: About 64.69%. This indicates the proportion of positive identifications that were actually correct.\n",
        "\n",
        "**Recall**: Roughly 29.61%. This metric shows the proportion of actual positives that were identified correctly.\n",
        "\n",
        "**F1 Score**: Approximately 40.62%. The F1 score is a weighted average of precision and recall.\n",
        "\n",
        "**Confusion Matrix**: The matrix is as follows:\n",
        "True Negative (TN): 7109\n",
        "False Positive (FP): 370\n",
        "False Negative (FN): 1612\n",
        "True Positive (TP): 678\n",
        "\n",
        "The confusion matrix provides a more detailed insight into the performance of the model, showing how many instances were correctly or incorrectly classified in each category."
      ],
      "metadata": {
        "id": "pyqSCgkipxjt"
      }
    },
    {
      "cell_type": "code",
      "source": [
        "from sklearn.linear_model import LogisticRegression\n",
        "from sklearn.metrics import accuracy_score, precision_score, recall_score, f1_score, confusion_matrix\n",
        "\n",
        "# Training the Logistic Regression model\n",
        "logreg = LogisticRegression(max_iter=1000)\n",
        "logreg.fit(X_train, y_train)\n",
        "\n",
        "# Predicting on the test data\n",
        "y_pred = logreg.predict(X_test)\n",
        "\n",
        "# Evaluating the model\n",
        "accuracy = accuracy_score(y_test, y_pred)\n",
        "precision = precision_score(y_test, y_pred)\n",
        "recall = recall_score(y_test, y_pred)\n",
        "f1score = f1_score(y_test, y_pred)\n",
        "conf_matrix = confusion_matrix(y_test, y_pred)\n",
        "\n",
        "accuracy, precision, recall, f1score, conf_matrix\n"
      ],
      "metadata": {
        "colab": {
          "base_uri": "https://localhost:8080/"
        },
        "id": "OzLqgB2Mp_pl",
        "outputId": "2d3d3aaa-ccc7-4538-d92a-2f067de3006f"
      },
      "execution_count": 6,
      "outputs": [
        {
          "output_type": "execute_result",
          "data": {
            "text/plain": [
              "(0.7971133176374245,\n",
              " 0.6469465648854962,\n",
              " 0.2960698689956332,\n",
              " 0.40623127621330146,\n",
              " array([[7109,  370],\n",
              "        [1612,  678]]))"
            ]
          },
          "metadata": {},
          "execution_count": 6
        }
      ]
    },
    {
      "cell_type": "markdown",
      "source": [],
      "metadata": {
        "id": "Faftcj1HrCnM"
      }
    },
    {
      "cell_type": "code",
      "source": [
        "import matplotlib.pyplot as plt\n",
        "import seaborn as sns\n",
        "from sklearn.metrics import roc_curve, auc\n",
        "\n",
        "# Plotting the confusion matrix\n",
        "plt.figure(figsize=(8, 6))\n",
        "sns.heatmap(conf_matrix, annot=True, fmt='d', cmap='Reds',\n",
        "            xticklabels=['Predicted <=50K', 'Predicted >50K'],\n",
        "            yticklabels=['Actual <=50K', 'Actual >50K'])\n",
        "plt.ylabel('Actual')\n",
        "plt.xlabel('Predicted')\n",
        "plt.title('Confusion Matrix')\n",
        "plt.show()\n",
        "\n",
        "# Predicting probabilities for test set\n",
        "y_prob = logreg.predict_proba(X_test)[:, 1]\n",
        "\n",
        "# Computing ROC curve and AUC\n",
        "fpr, tpr, thresholds = roc_curve(y_test, y_prob)\n",
        "roc_auc = auc(fpr, tpr)\n",
        "\n",
        "# Plotting ROC curve\n",
        "plt.figure(figsize=(8, 6))\n",
        "plt.plot(fpr, tpr, color='green', lw=2, linestyle='-', label='ROC curve (area = %0.2f)' % roc_auc)\n",
        "plt.plot([0, 1], [0, 1], color='orange', lw=2, linestyle='-.')\n",
        "plt.xlim([0.0, 1.0])\n",
        "plt.ylim([0.0, 1.05])\n",
        "plt.xlabel('False Positive Rate')\n",
        "plt.ylabel('True Positive Rate')\n",
        "plt.title('Receiver Operating Characteristic (ROC) Curve - New Style')\n",
        "plt.legend(loc=\"lower right\")\n",
        "plt.show()"
      ],
      "metadata": {
        "colab": {
          "base_uri": "https://localhost:8080/",
          "height": 1000
        },
        "id": "M6oZcCPrrFZo",
        "outputId": "29197817-15a0-4400-c3f5-98c60a7a1375"
      },
      "execution_count": 12,
      "outputs": [
        {
          "output_type": "display_data",
          "data": {
            "text/plain": [
              "<Figure size 800x600 with 2 Axes>"
            ],
            "image/png": "[encoded data removed]"
          },
          "metadata": {}
        },
        {
          "output_type": "display_data",
          "data": {
            "text/plain": [
              "<Figure size 800x600 with 1 Axes>"
            ],
            "image/png": "[encoded data removed]"
          },
          "metadata": {}
        }
      ]
    },
    {
      "cell_type": "markdown",
      "source": [
        "**The bar chart depicts the actual versus predicted values for the first 30 samples:**\n",
        "\n",
        "Sky blue bars represent the actual values.\n",
        "\n",
        "---\n",
        "\n",
        "\n",
        "\n",
        "Coral bars indicate the predicted values.\n",
        "\n",
        "\n",
        "---\n",
        "\n",
        "\n",
        "Each pair of bars corresponds to a sample, with the left bar (sky blue) showing the actual value and the right bar (coral) showing the predicted value.\n"
      ],
      "metadata": {
        "id": "xMA0bJu1sdQK"
      }
    },
    {
      "cell_type": "code",
      "source": [
        "import numpy as np\n",
        "\n",
        "# I number of samples 30\n",
        "num_samples = 30\n",
        "sample_indices = np.arange(num_samples)\n",
        "actual_values = y_test[:num_samples]\n",
        "predicted_values = y_pred[:num_samples]\n",
        "\n",
        "# Creating a bar chart for actual vs predicted values\n",
        "plt.figure(figsize=(12, 8))\n",
        "bar_width = 0.35\n",
        "plt.bar(sample_indices, actual_values, bar_width, label='Actual Values', color='skyblue', alpha=0.7)\n",
        "plt.bar(sample_indices + bar_width, predicted_values, bar_width, label='Predicted Values', color='coral', alpha=0.7)\n",
        "\n",
        "plt.xlabel('Sample Index')\n",
        "plt.ylabel('Income Class')\n",
        "plt.title('Actual vs Predicted Values for the First 30 Samples - Bar Chart')\n",
        "plt.xticks(sample_indices + bar_width / 2, sample_indices)\n",
        "plt.yticks([0, 1], ['<=50K', '>50K'])\n",
        "plt.legend()\n",
        "plt.grid(True)\n",
        "plt.show()\n"
      ],
      "metadata": {
        "colab": {
          "base_uri": "https://localhost:8080/",
          "height": 718
        },
        "id": "Opk50BBtskEB",
        "outputId": "307c51c5-3f30-4521-d577-feae6cc8acba"
      },
      "execution_count": 13,
      "outputs": [
        {
          "output_type": "display_data",
          "data": {
            "text/plain": [
              "<Figure size 1200x800 with 1 Axes>"
            ],
            "image/png": "[encoded data removed]"
          },
          "metadata": {}
        }
      ]
    },
    {
      "cell_type": "markdown",
      "source": [
        "# **Conclusion**\n",
        "\n",
        "The project showcased the application of different machine learning models to a real-world problem. Each model provided insights into the dataset, with the Logistic Regression model showing reasonable accuracy and the Decision Tree offering a different perspective, likely with more interpretability. The learning curve analysis further helped in understanding the models' behavior with increasing training data."
      ],
      "metadata": {
        "id": "ZpRhzun7vfxX"
      }
    }
  ]
}